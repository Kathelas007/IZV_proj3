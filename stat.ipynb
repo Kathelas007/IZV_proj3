{
 "cells": [
  {
   "cell_type": "code",
   "execution_count": 41,
   "metadata": {
    "scrolled": true
   },
   "outputs": [
    {
     "name": "stdout",
     "output_type": "stream",
     "text": [
      "Defaulting to user installation because normal site-packages is not writeable\n",
      "Requirement already satisfied: numpy in /home/awesome/.local/lib/python3.8/site-packages (1.19.4)\n",
      "Requirement already satisfied: pandas in /home/awesome/.local/lib/python3.8/site-packages (1.1.4)\n",
      "Requirement already satisfied: scipy in /home/awesome/.local/lib/python3.8/site-packages (1.5.4)\n",
      "Requirement already satisfied: seaborn in /home/awesome/.local/lib/python3.8/site-packages (0.11.0)\n",
      "Requirement already satisfied: python-dateutil>=2.7.3 in /usr/lib/python3/dist-packages (from pandas) (2.7.3)\n",
      "Requirement already satisfied: pytz>=2017.2 in /usr/lib/python3/dist-packages (from pandas) (2019.3)\n",
      "Requirement already satisfied: matplotlib>=2.2 in /home/awesome/.local/lib/python3.8/site-packages (from seaborn) (3.3.3)\n",
      "Requirement already satisfied: kiwisolver>=1.0.1 in /home/awesome/.local/lib/python3.8/site-packages (from matplotlib>=2.2->seaborn) (1.3.1)\n",
      "Requirement already satisfied: cycler>=0.10 in /home/awesome/.local/lib/python3.8/site-packages (from matplotlib>=2.2->seaborn) (0.10.0)\n",
      "Requirement already satisfied: pillow>=6.2.0 in /usr/lib/python3/dist-packages (from matplotlib>=2.2->seaborn) (7.0.0)\n",
      "Requirement already satisfied: pyparsing!=2.0.4,!=2.1.2,!=2.1.6,>=2.0.3 in /home/awesome/.local/lib/python3.8/site-packages (from matplotlib>=2.2->seaborn) (2.4.7)\n",
      "Requirement already satisfied: six in /usr/lib/python3/dist-packages (from cycler>=0.10->matplotlib>=2.2->seaborn) (1.14.0)\n",
      "\u001b[33mWARNING: You are using pip version 20.2.3; however, version 20.3.3 is available.\n",
      "You should consider upgrading via the '/usr/bin/python3.8 -m pip install --upgrade pip' command.\u001b[0m\n",
      "Note: you may need to restart the kernel to use updated packages.\n"
     ]
    }
   ],
   "source": [
    "%pip install numpy pandas scipy seaborn\n",
    "import numpy as np, pandas as pd\n",
    "import seaborn as sns\n",
    "import scipy.stats as st"
   ]
  },
  {
   "cell_type": "markdown",
   "metadata": {},
   "source": [
    "Nahrání dat a získání požadovaných informací.\n",
    "\n",
    "Pokřebujeme získat info: \n",
    "1) Zda byl viník nehody byl pod silným vlivem alkoholu:\n",
    "    p11 >= 7,\n",
    "2) Zda nastaly těžké zdravotní následky (usmrcení či těžkému zranění)     p13a + p13b > 0\n",
    "\n",
    "Z celého DataFramu se vyloučí nehody pod vlivem drog\n",
    "    p11 == 4 OR p11 == 5\n"
   ]
  },
  {
   "cell_type": "code",
   "execution_count": null,
   "metadata": {},
   "outputs": [],
   "source": [
    "df = pd.read_pickle(\"accidents.pkl.gz\")\n",
    "\n",
    "df = df[~df['p11'].isin([4, 5])]\n",
    "\n",
    "df1 = pd.DataFrame()\n",
    "df1['alkohol'] = df['p11'] >= 7 \n",
    "df1['nasledky'] = (df['p13a'] + df['p13b']) > 0"
   ]
  },
  {
   "cell_type": "markdown",
   "metadata": {},
   "source": [
    "Vytvoříme kontingenční tabulku."
   ]
  },
  {
   "cell_type": "code",
   "execution_count": 52,
   "metadata": {},
   "outputs": [],
   "source": [
    "df_ct = pd.crosstab(df1['alkohol'], df1['nasledky'])"
   ]
  },
  {
   "cell_type": "markdown",
   "metadata": {},
   "source": [
    "Využití testu chí-kvadrát, který je schopen určit p-hodnotu."
   ]
  },
  {
   "cell_type": "code",
   "execution_count": 54,
   "metadata": {},
   "outputs": [
    {
     "name": "stdout",
     "output_type": "stream",
     "text": [
      "2.0971505700338304e-123\n"
     ]
    }
   ],
   "source": [
    "p_value = st.chi2_contingency(df_ct)[1]\n",
    "print(p_value)"
   ]
  },
  {
   "cell_type": "markdown",
   "metadata": {},
   "source": [
    "Hypotézu chceme ověřit s 95% jistotou, p-hodnota musí být tedy menčí než 5%, což splňuje.\n",
    "Hypotézu tedy příjímáme."
   ]
  }
 ],
 "metadata": {
  "kernelspec": {
   "display_name": "PyCharm (page_generator)",
   "language": "python",
   "name": "pycharm-b5c62121"
  },
  "language_info": {
   "codemirror_mode": {
    "name": "ipython",
    "version": 3
   },
   "file_extension": ".py",
   "mimetype": "text/x-python",
   "name": "python",
   "nbconvert_exporter": "python",
   "pygments_lexer": "ipython3",
   "version": "3.8.2"
  }
 },
 "nbformat": 4,
 "nbformat_minor": 4
}
